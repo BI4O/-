{
 "cells": [
  {
   "cell_type": "code",
   "execution_count": 1,
   "metadata": {},
   "outputs": [],
   "source": [
    "\"\"\"导入必要的包\"\"\"\n",
    "%matplotlib inline\n",
    "%config InlineBackend.figure_format = 'retina'\n",
    "import matplotlib.pyplot as plt\n",
    "import torch\n",
    "import torch.nn.functional as F\n",
    "from torch import nn"
   ]
  },
  {
   "cell_type": "markdown",
   "metadata": {},
   "source": [
    "## 1.导入MINST数据集，并进行数字化处理"
   ]
  },
  {
   "cell_type": "code",
   "execution_count": 2,
   "metadata": {},
   "outputs": [
    {
     "name": "stdout",
     "output_type": "stream",
     "text": [
      "<class 'torch.Tensor'>\n",
      "torch.Size([64, 1, 28, 28])\n",
      "torch.Size([64])\n"
     ]
    }
   ],
   "source": [
    "\"\"\"导入数据，Images 2 Vectors\"\"\"\n",
    "from torchvision import datasets, transforms\n",
    "\n",
    "# images 2 Vectors 定义转换器\n",
    "transform = transforms.Compose([transforms.ToTensor(),\n",
    "                                transforms.Normalize([0.5], [0.5])\n",
    "                                ])\n",
    "\n",
    "# 下载数据并转换\n",
    "trainset = datasets.MNIST('MNIST_data/',\n",
    "                         download=True,\n",
    "                         train=True,\n",
    "                         transform=transform)\n",
    "\n",
    "# 定义数据加载器（可迭代对象，每次取出64个样本）\n",
    "trainloader = torch.utils.data.DataLoader(trainset,\n",
    "                                         batch_size=64,\n",
    "                                         shuffle=True)\n",
    "\n",
    "# 查看转换后的数据\n",
    "dataiter = iter(trainloader) \n",
    "images, labels = dataiter.next()\n",
    "print(type(images))  # torch.Tensor\n",
    "print(images.shape)  # 64个，1厚度，28宽，28高\n",
    "print(labels.shape)  # 64 表示只包含64个元素的向量"
   ]
  },
  {
   "cell_type": "code",
   "execution_count": 3,
   "metadata": {},
   "outputs": [
    {
     "name": "stdout",
     "output_type": "stream",
     "text": [
      "tensor(8)\n"
     ]
    },
    {
     "data": {
      "image/png": "[encoded data removed]",
      "text/plain": [
       "<Figure size 432x288 with 1 Axes>"
      ]
     },
     "metadata": {
      "image/png": {
       "height": 250,
       "width": 253
      },
      "needs_background": "light"
     },
     "output_type": "display_data"
    }
   ],
   "source": [
    "\"\"\"随便看一下\"\"\"\n",
    "plt.imshow(images[60].numpy().squeeze(),cmap='Greys_r')  \n",
    "print(labels[60])  "
   ]
  },
  {
   "cell_type": "markdown",
   "metadata": {},
   "source": [
    "## 2.构建模型"
   ]
  },
  {
   "cell_type": "code",
   "execution_count": 4,
   "metadata": {},
   "outputs": [
    {
     "name": "stdout",
     "output_type": "stream",
     "text": [
      "torch.Size([64, 10]) 64\n",
      "第一个样本的标签： tensor(6) \n",
      "第一个样本的模型预测概率分布：\n",
      " tensor([0.0894, 0.0911, 0.0939, 0.1170, 0.1071, 0.1155, 0.0899, 0.0867, 0.1013,\n",
      "        0.1081], grad_fn=<SelectBackward>)\n"
     ]
    }
   ],
   "source": [
    "\"\"\"构建模型\"\"\"\n",
    "class Num_Identify(nn.Module):\n",
    "    def __init__(self):\n",
    "        super().__init__()\n",
    "        self.h1 = nn.Linear(784,128)  # 输入层有784单元，即28x28\n",
    "        self.h2 = nn.Linear(128, 64)\n",
    "        self.output = nn.Linear(64, 10)\n",
    "    \n",
    "    def forward(self, x):\n",
    "        x = x.view(x.shape[0],784)  # images 2 vector  不知道为啥输入（64，-1）会报错\n",
    "        x = F.relu(self.h1(x))\n",
    "        x = F.relu(self.h2(x))\n",
    "        x = F.softmax(self.output(x), dim=1)  # 注意，dim=1是指跨列方向求softmax,因为一行是一个样本\n",
    "        return x\n",
    "    \n",
    "    \n",
    "\n",
    "# 从迭代器中拿出一份（64个）样本数据\n",
    "images_test, labels_test = next(iter(trainloader))\n",
    "\n",
    "# 运行模型\n",
    "my_model = Num_Identify()\n",
    "output_test = my_model(images_test)\n",
    "\n",
    "# 得到一个64x10的概率分布，注意最后一层中softmax函数输出的是一个概率分布\n",
    "print(output_test.shape,images_test.shape[0])  \n",
    "\n",
    "# 取第一个样本看，实际值为7\n",
    "# 预测的概率分布0-9的概率都接近却不严格等于0.1，这是因为模型自动初始化了w和b，但可认为此时模型没有偏向选择\n",
    "print(\"第一个样本的标签：\",labels_test[0],\"\\n第一个样本的模型预测概率分布：\\n\",output_test[0])"
   ]
  },
  {
   "cell_type": "markdown",
   "metadata": {},
   "source": [
    "## 3.定义损失函数，计算损失Loss"
   ]
  },
  {
   "cell_type": "code",
   "execution_count": 5,
   "metadata": {},
   "outputs": [
    {
     "data": {
      "text/plain": [
       "(tensor(2.3025, grad_fn=<NllLossBackward>),\n",
       " torch.Size([64, 10]),\n",
       " torch.Size([64]),\n",
       " torch.Size([64, 1, 28, 28]))"
      ]
     },
     "execution_count": 5,
     "metadata": {},
     "output_type": "execute_result"
    }
   ],
   "source": [
    "\"\"\"损失函数有很多种，这里用负对数损失函数（negative log likehood loss function）\"\"\"\n",
    "\n",
    "# 输出取对数,要去玩对数才可以放进NLLLoss中\n",
    "log_output_test = torch.log(output_test)\n",
    "\n",
    "# 定义损失函数\n",
    "loss_function = nn.NLLLoss()  # nn.CrossEntropyLoss()一样的结果，但交叉熵会在前面多一步softmax,我们模型里已经有了\n",
    "loss = loss_function(log_output_test,labels_test)  # 注意输入时候的顺序，前面是模型结果，后面是真实值，他们的维度是不一样的\n",
    "loss,output_test.shape,labels_test.shape,images_test.shape  # 可以看到初始误差为2.3227"
   ]
  },
  {
   "cell_type": "markdown",
   "metadata": {},
   "source": [
    "## 4.定义优化函数"
   ]
  },
  {
   "cell_type": "code",
   "execution_count": 6,
   "metadata": {},
   "outputs": [],
   "source": [
    "from torch import optim\n",
    "# 优化器需要传入模型的参数(记得加括号)和学习率，这里用批量梯度batch gradient decent下降\n",
    "optimizer = optim.Adam(my_model.parameters(), lr=0.003)"
   ]
  },
  {
   "cell_type": "markdown",
   "metadata": {},
   "source": [
    "## 5.反向传播，优化模型"
   ]
  },
  {
   "cell_type": "code",
   "execution_count": 7,
   "metadata": {},
   "outputs": [
    {
     "name": "stdout",
     "output_type": "stream",
     "text": [
      "Training loss:0.3541419229972591\n",
      "Training loss:0.17635852930300844\n",
      "Training loss:0.13986058332877896\n",
      "Training loss:0.12339007316915783\n",
      "Training loss:0.11212804506315407\n",
      "Training loss:0.1021100647736595\n",
      "Training loss:0.0990405947010694\n",
      "Training loss:0.0931109209909344\n",
      "Training loss:0.08315628747857148\n",
      "Training loss:0.08809701152327559\n"
     ]
    }
   ],
   "source": [
    "# 进行损失函数的优化\n",
    "epochs = 10  # 遍历整个数据集5次\n",
    "for e in range(epochs):\n",
    "    # 损失函数容器\n",
    "    running_loss = 0\n",
    "    for images, labels in trainloader: # 批次：每次取64个\n",
    "        # 梯度清零\n",
    "        optimizer.zero_grad()\n",
    "        # 向前传播\n",
    "        output = my_model(images)\n",
    "        log_output = torch.log(output)\n",
    "        # 计算损失\n",
    "        loss = loss_function(log_output, labels)\n",
    "        # 反向传播\n",
    "        loss.backward()\n",
    "        optimizer.step()\n",
    "        \n",
    "        running_loss += loss.item()\n",
    "        \n",
    "    \n",
    "    print(f'Training loss:{running_loss/len(trainloader)}')"
   ]
  },
  {
   "cell_type": "code",
   "execution_count": 8,
   "metadata": {},
   "outputs": [
    {
     "name": "stdout",
     "output_type": "stream",
     "text": [
      "batch_shape\n",
      " torch.Size([64, 1, 28, 28]) label_shape\n",
      " torch.Size([64])\n",
      "batch中取第29个样本 torch.Size([1, 28, 28])\n",
      "\n",
      "真实值: tensor(9)\n",
      "\n",
      "预测值: tensor([9])\n",
      "\n",
      "该值预测概率: tensor([0.9996], grad_fn=<SelectBackward>)\n"
     ]
    },
    {
     "data": {
      "image/png": "[encoded data removed]",
      "text/plain": [
       "<Figure size 432x288 with 1 Axes>"
      ]
     },
     "metadata": {
      "image/png": {
       "height": 250,
       "width": 253
      },
      "needs_background": "light"
     },
     "output_type": "display_data"
    }
   ],
   "source": [
    "import random\n",
    "n = random.randint(1,64)\n",
    "\n",
    "images3,labels3 = next(iter(trainloader))\n",
    "print('batch_shape\\n',images3.shape,'label_shape\\n',labels3.shape)\n",
    "\n",
    "# 打印其中一个样本的shape和图形\n",
    "print('batch中取第%d个样本' %n,images3[n].shape)\n",
    "plt.imshow(images3[n].numpy().squeeze(),cmap='Greys_r')  \n",
    "\n",
    "# 打印真实值\n",
    "print('\\n真实值:',labels3[n])  \n",
    "\n",
    "# 打印预测值\n",
    "predict_ps = my_model(images3)  # 32x10\n",
    "\n",
    "# dim=1 也就是跨列比较，取每行最大的值top_p,以及最大的值对应的列索引top_class\n",
    "top_p, top_class = predict_ps.topk(1, dim=1)  \n",
    "print('\\n预测值:',top_class[n])\n",
    "print('\\n该值预测概率:',top_p[n])"
   ]
  },
  {
   "cell_type": "code",
   "execution_count": 9,
   "metadata": {},
   "outputs": [
    {
     "data": {
      "text/plain": [
       "\"\\n加载模型格式,加载为new_model(名字随便起)\\nnew_model.load_state_dict(torch.load('？？？.pkl'))\\n\""
      ]
     },
     "execution_count": 9,
     "metadata": {},
     "output_type": "execute_result"
    }
   ],
   "source": [
    "\"\"\"保存模型\"\"\"\n",
    "# 只保存网络的参数, 官方推荐的方式\n",
    "torch.save(my_model.state_dict(), 'num_identify.pkl')\n",
    "\n",
    "\"\"\"\n",
    "加载模型格式,加载为new_model(名字随便起)\n",
    "new_model.load_state_dict(torch.load('？？？.pkl'))\n",
    "\"\"\""
   ]
  }
 ],
 "metadata": {
  "kernelspec": {
   "display_name": "Python 3",
   "language": "python",
   "name": "python3"
  },
  "language_info": {
   "codemirror_mode": {
    "name": "ipython",
    "version": 3
   },
   "file_extension": ".py",
   "mimetype": "text/x-python",
   "name": "python",
   "nbconvert_exporter": "python",
   "pygments_lexer": "ipython3",
   "version": "3.7.1"
  }
 },
 "nbformat": 4,
 "nbformat_minor": 2
}
