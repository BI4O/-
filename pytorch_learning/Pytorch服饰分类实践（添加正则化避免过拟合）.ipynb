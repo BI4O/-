{
 "cells": [
  {
   "cell_type": "markdown",
   "metadata": {},
   "source": [
    "### 1.准备数据"
   ]
  },
  {
   "cell_type": "code",
   "execution_count": 1,
   "metadata": {},
   "outputs": [],
   "source": [
    "import torch \n",
    "from torchvision import datasets, transforms\n",
    "\n",
    "# 定义转换器\n",
    "my_trans = transforms.Compose([transforms.ToTensor(),\n",
    "                              transforms.Normalize([0.5],[0.5])])\n",
    "# 下载数据\n",
    "trainset = datasets.FashionMNIST('MNIST_data/',\n",
    "                                   download=True,\n",
    "                                   train=True,\n",
    "                                   transform=my_trans)\n",
    "trainloader = torch.utils.data.DataLoader(trainset, batch_size=64, shuffle=True)\n",
    "\n",
    "testset = datasets.FashionMNIST('MNIST_data/',\n",
    "                                   download=True,\n",
    "                                   train=False,\n",
    "                                   transform=my_trans)\n",
    "testloader = torch.utils.data.DataLoader(testset, batch_size=64, shuffle=True)"
   ]
  },
  {
   "cell_type": "markdown",
   "metadata": {},
   "source": [
    "### 2.构建模型"
   ]
  },
  {
   "cell_type": "code",
   "execution_count": 12,
   "metadata": {},
   "outputs": [],
   "source": [
    "from torch import nn, optim\n",
    "import torch.nn.functional as F\n",
    "\n",
    "class Classify(nn.Module):\n",
    "    def __init__(self):\n",
    "        super().__init__()\n",
    "        self.full_connect1 = nn.Linear(784, 256)\n",
    "        self.full_connect2 = nn.Linear(256, 128)\n",
    "        self.full_connect3 = nn.Linear(128, 64)\n",
    "        self.full_connect4 = nn.Linear(64,10)\n",
    "        \n",
    "    def forward(self,x):\n",
    "        x = x.view(x.shape[0],-1)\n",
    "        x = F.relu(self.full_connect1(x))\n",
    "        x = F.relu(self.full_connect2(x))\n",
    "        x = F.relu(self.full_connect3(x))\n",
    "        x = F.log_softmax(self.full_connect4(x), dim=1)\n",
    "        \n",
    "        return x"
   ]
  },
  {
   "cell_type": "code",
   "execution_count": 35,
   "metadata": {},
   "outputs": [
    {
     "name": "stdout",
     "output_type": "stream",
     "text": [
      "test1的预测概率分布形状：torch.Size([64, 10])\n",
      "top_value.shape: torch.Size([64, 1]) \n",
      "top_class.shape: torch.Size([64, 1])\n",
      "未训练模型准确率为1.5625 %\n"
     ]
    }
   ],
   "source": [
    "\"\"\"检验未训练的模型的正确率\"\"\"\n",
    "classify_test1 = Classify() \n",
    "images_test1, labels_test1 = next(iter(testloader))\n",
    "ps_test = torch.exp(classify_test1(images_test1))\n",
    "print(f'test1的预测概率分布形状：{ps_test.shape}')\n",
    "\n",
    "# 跨列（dim=1）选择出值最大的那  1  个值， 值赋给top_value, 所属的类号赋给top_class\n",
    "top_value, top_class = ps_test.topk(1,dim=1)\n",
    "print('top_value.shape:',top_value.shape,'\\ntop_class.shape:',top_class.shape)\n",
    "\n",
    "# 检验正确率(为了保证形状匹配，记得把labels.shape从1x64转变为64x1)\n",
    "equals = top_class==labels_test1.view(labels_test1.shape[0],-1)\n",
    "# 为了求均值，必须转化为浮点数\n",
    "equals_float = equals.type(torch.FloatTensor)\n",
    "accuracy_test1 = torch.mean(equals_float)\n",
    "print(f'未训练模型准确率为{accuracy_test1.item()*100} %')"
   ]
  },
  {
   "cell_type": "markdown",
   "metadata": {},
   "source": [
    "### 3.开始训练模型"
   ]
  },
  {
   "cell_type": "code",
   "execution_count": 42,
   "metadata": {},
   "outputs": [
    {
     "name": "stdout",
     "output_type": "stream",
     "text": [
      "训练0的训练误差为0.5161175727844238\n",
      "训练1的训练误差为0.3763822913169861\n",
      "训练2的训练误差为0.33433690667152405\n",
      "训练3的训练误差为0.3097183108329773\n",
      "训练4的训练误差为0.29188773036003113\n",
      "训练5的训练误差为0.27661216259002686\n",
      "训练6的训练误差为0.26100483536720276\n",
      "训练7的训练误差为0.25246095657348633\n",
      "训练8的训练误差为0.24017423391342163\n",
      "训练9的训练误差为0.22863127291202545\n"
     ]
    }
   ],
   "source": [
    "# 新建模型实例\n",
    "classify = Classify()\n",
    "# 定义损失函数\n",
    "loss_function = nn.NLLLoss()\n",
    "# 定义优化函数\n",
    "optimizer = optim.Adam(classify.parameters(),lr=0.001)\n",
    "\n",
    "epochs = 10\n",
    "for i in range(epochs):\n",
    "    running_loss = 0\n",
    "    for images, labels in trainloader:\n",
    "        # 优化器梯度清零\n",
    "        optimizer.zero_grad()\n",
    "        # 前向传播(得到log_softmax)\n",
    "        output = classify(images)\n",
    "        # 计算损失\n",
    "        loss = loss_function(output, labels)\n",
    "        # 误差反向传播\n",
    "        loss.backward()\n",
    "        # 优化器更新模型参数\n",
    "        optimizer.step()        \n",
    "        # 把本次遍历训练样本的误差累加计算\n",
    "        running_loss += loss\n",
    "    # 计算每次epoch的平均损失    \n",
    "    print(f'训练{i}的训练误差为{running_loss/len(trainloader)}')"
   ]
  },
  {
   "cell_type": "markdown",
   "metadata": {},
   "source": [
    "### 4.用测试集评价模型"
   ]
  },
  {
   "cell_type": "code",
   "execution_count": 50,
   "metadata": {},
   "outputs": [
    {
     "name": "stdout",
     "output_type": "stream",
     "text": [
      "模型平均误差：0.36107581853866577\n"
     ]
    }
   ],
   "source": [
    "# 指标1：计算测试集损失\n",
    "with torch.no_grad():\n",
    "    avg_loss=0\n",
    "    for images_test, labels_test in testloader:\n",
    "        output_test = classify(images_test)\n",
    "        loss_test = loss_function(output_test, labels_test)\n",
    "        avg_loss += loss_test\n",
    "    print(f'模型平均误差：{avg_loss/len(testloader)}')\n"
   ]
  },
  {
   "cell_type": "code",
   "execution_count": 55,
   "metadata": {},
   "outputs": [
    {
     "name": "stdout",
     "output_type": "stream",
     "text": [
      "平均准确率为: 87.64928343949045%\n"
     ]
    }
   ],
   "source": [
    "# 指标2： 准确率\n",
    "with torch.no_grad():\n",
    "    avg_acc = []\n",
    "    # 每次从测试集中取出64个样本\n",
    "    for images_test, labels_test in testloader:\n",
    "        # 得到测试结果（一连串取了对数的概率分布）\n",
    "        output_test = classify(images_test)\n",
    "        # 取概率最大的一个值作为预测的类别\n",
    "        top_value, top_class = output_test.topk(1,dim=1)\n",
    "        # 判断预测与真实值之间的异同（1为同，0为异）\n",
    "        equals = top_class==labels_test.view(labels_test.shape[0],-1)\n",
    "        # 把这一连串0和1取平均值就可以知道正确率（这批次64个样本的正确率）\n",
    "        accuracy = torch.mean(equals.type(torch.FloatTensor))\n",
    "        # 把这批次的正确率存放到\n",
    "        avg_acc.append(accuracy.item())\n",
    "# print(avg_acc)\n",
    "print(f'平均准确率为: {sum(avg_acc)/len(avg_acc)*100}%')"
   ]
  },
  {
   "cell_type": "markdown",
   "metadata": {},
   "source": [
    "# 动态损失可视化版\n",
    "###  这次会在训练的同时计算训练的损失和测试的损失\n"
   ]
  },
  {
   "cell_type": "code",
   "execution_count": 66,
   "metadata": {},
   "outputs": [
    {
     "name": "stdout",
     "output_type": "stream",
     "text": [
      "epoch1of30 Training_loss: 0.522 Test_loss: 0.414 Accuracy: 0.853\n",
      "epoch2of30 Training_loss: 0.377 Test_loss: 0.430 Accuracy: 0.845\n",
      "epoch3of30 Training_loss: 0.339 Test_loss: 0.361 Accuracy: 0.867\n",
      "epoch4of30 Training_loss: 0.317 Test_loss: 0.363 Accuracy: 0.868\n",
      "epoch5of30 Training_loss: 0.296 Test_loss: 0.343 Accuracy: 0.879\n",
      "epoch6of30 Training_loss: 0.275 Test_loss: 0.370 Accuracy: 0.873\n",
      "epoch7of30 Training_loss: 0.265 Test_loss: 0.343 Accuracy: 0.877\n",
      "epoch8of30 Training_loss: 0.249 Test_loss: 0.348 Accuracy: 0.880\n",
      "epoch9of30 Training_loss: 0.238 Test_loss: 0.338 Accuracy: 0.884\n",
      "epoch10of30 Training_loss: 0.232 Test_loss: 0.332 Accuracy: 0.885\n",
      "epoch11of30 Training_loss: 0.218 Test_loss: 0.348 Accuracy: 0.884\n",
      "epoch12of30 Training_loss: 0.211 Test_loss: 0.360 Accuracy: 0.880\n",
      "epoch13of30 Training_loss: 0.200 Test_loss: 0.340 Accuracy: 0.886\n",
      "epoch14of30 Training_loss: 0.193 Test_loss: 0.345 Accuracy: 0.885\n",
      "epoch15of30 Training_loss: 0.184 Test_loss: 0.377 Accuracy: 0.883\n",
      "epoch16of30 Training_loss: 0.177 Test_loss: 0.383 Accuracy: 0.883\n",
      "epoch17of30 Training_loss: 0.170 Test_loss: 0.396 Accuracy: 0.882\n",
      "epoch18of30 Training_loss: 0.165 Test_loss: 0.362 Accuracy: 0.887\n",
      "epoch19of30 Training_loss: 0.157 Test_loss: 0.383 Accuracy: 0.892\n",
      "epoch20of30 Training_loss: 0.153 Test_loss: 0.381 Accuracy: 0.892\n",
      "epoch21of30 Training_loss: 0.147 Test_loss: 0.385 Accuracy: 0.893\n",
      "epoch22of30 Training_loss: 0.138 Test_loss: 0.387 Accuracy: 0.890\n",
      "epoch23of30 Training_loss: 0.137 Test_loss: 0.425 Accuracy: 0.889\n",
      "epoch24of30 Training_loss: 0.131 Test_loss: 0.391 Accuracy: 0.892\n",
      "epoch25of30 Training_loss: 0.125 Test_loss: 0.448 Accuracy: 0.885\n",
      "epoch26of30 Training_loss: 0.124 Test_loss: 0.431 Accuracy: 0.885\n",
      "epoch27of30 Training_loss: 0.125 Test_loss: 0.420 Accuracy: 0.894\n",
      "epoch28of30 Training_loss: 0.111 Test_loss: 0.467 Accuracy: 0.889\n",
      "epoch29of30 Training_loss: 0.110 Test_loss: 0.471 Accuracy: 0.884\n",
      "epoch30of30 Training_loss: 0.108 Test_loss: 0.489 Accuracy: 0.887\n"
     ]
    }
   ],
   "source": [
    "model_act = Classify()\n",
    "loss_function = nn.NLLLoss()\n",
    "optimizer = optim.Adam(model_act.parameters(), lr=0.001)\n",
    "\n",
    "epochs = 30\n",
    "step = 0\n",
    "\n",
    "train_losses = []\n",
    "test_losses = []\n",
    "for i in range(epochs):\n",
    "    running_loss = 0\n",
    "    for images, labels in trainloader:\n",
    "        \n",
    "        optimizer.zero_grad()\n",
    "        \n",
    "        log_ps = model_act(images)\n",
    "        loss = loss_function(log_ps, labels)\n",
    "        loss.backward()\n",
    "        optimizer.step()\n",
    "        \n",
    "        running_loss += loss.item()\n",
    "    \n",
    "    # 每个epochs都来计算一次测试集的损失\n",
    "    else:\n",
    "        test_loss_batch_sum = 0\n",
    "        accuracy_batch_sum = 0\n",
    "        \n",
    "        # Turn off grad to save memory and computations\n",
    "        with torch.no_grad():\n",
    "            for images, labels in testloader:\n",
    "                log_ps_test = model_act(images)\n",
    "                loss = loss_function(log_ps_test, labels)\n",
    "                test_loss_batch_sum += loss.item()\n",
    "                \n",
    "                ps_test = torch.exp(log_ps_test)\n",
    "                top_value, top_class = ps_test.topk(1,dim=1)\n",
    "                equals = top_class==labels.view(*top_class.shape)\n",
    "                accuracy = torch.mean(equals.type(torch.FloatTensor))\n",
    "                accuracy_batch_sum += accuracy\n",
    "        \n",
    "        train_losses.append(running_loss/len(trainloader))\n",
    "        test_losses.append(test_loss_batch_sum/len(testloader))\n",
    "        \n",
    "        print(f'epoch{i+1}of{epochs}',\n",
    "             'Training_loss: {:.3f}'.format(running_loss/len(trainloader)),\n",
    "             'Test_loss: {:.3f}'.format(test_loss_batch_sum/len(testloader)),\n",
    "             'Accuracy: {:.3f}'.format(accuracy_batch_sum/len(testloader)))\n",
    "        "
   ]
  },
  {
   "cell_type": "code",
   "execution_count": 71,
   "metadata": {},
   "outputs": [
    {
     "data": {
      "text/plain": [
       "<matplotlib.legend.Legend at 0x213f09327f0>"
      ]
     },
     "execution_count": 71,
     "metadata": {},
     "output_type": "execute_result"
    },
    {
     "data": {
      "image/png": "[encoded data removed]",
      "text/plain": [
       "<Figure size 432x288 with 1 Axes>"
      ]
     },
     "metadata": {
      "image/png": {
       "height": 250,
       "width": 373
      },
      "needs_background": "light"
     },
     "output_type": "display_data"
    }
   ],
   "source": [
    "%matplotlib inline\n",
    "%config InlineBackend.figure_format = 'retina'\n",
    "\n",
    "import matplotlib.pyplot as plt\n",
    "plt.plot(train_losses, label=\"Train loss\")\n",
    "plt.plot(test_losses, label='Validation loss')\n",
    "plt.legend(frameon=False)"
   ]
  },
  {
   "cell_type": "markdown",
   "metadata": {},
   "source": [
    "#### 上图出现了过拟合现象，下面添加正则化"
   ]
  },
  {
   "cell_type": "code",
   "execution_count": 72,
   "metadata": {},
   "outputs": [],
   "source": [
    "from torch import nn, optim\n",
    "import torch.nn.functional as F\n",
    "\n",
    "\"\"\"使用nn.dropout可以在前向传播中随机使某个单元失效，以防止过拟合\"\"\"\n",
    "class Classify_Dropout(nn.Module):\n",
    "    def __init__(self):\n",
    "        super().__init__()\n",
    "        self.full_connect1 = nn.Linear(784, 256)\n",
    "        self.full_connect2 = nn.Linear(256, 128)\n",
    "        self.full_connect3 = nn.Linear(128, 64)\n",
    "        self.full_connect4 = nn.Linear(64,10)\n",
    "        \n",
    "        # 添加dropout函数\n",
    "        self.dropout = nn.Dropout(p=0.2)\n",
    "        \n",
    "    def forward(self,x):\n",
    "        x = x.view(x.shape[0],-1)\n",
    "        \n",
    "        # 在每层激活函数前先使用dropout函数随机使一些单元失效\n",
    "        x = self.dropout(F.relu(self.full_connect1(x)))\n",
    "        x = self.dropout(F.relu(self.full_connect2(x)))\n",
    "        x = self.dropout(F.relu(self.full_connect3(x)))\n",
    "        \n",
    "        # 最后一层softmax函数不用dropout因为我们要完整的10个单元预测\n",
    "        x = F.log_softmax(self.full_connect4(x), dim=1)\n",
    "        \n",
    "        return x"
   ]
  },
  {
   "cell_type": "code",
   "execution_count": 74,
   "metadata": {},
   "outputs": [
    {
     "name": "stdout",
     "output_type": "stream",
     "text": [
      "epoch1 of 30  Training_loss:0.602  Test_loss:0.449  Accuracy:0.836\n",
      "epoch2 of 30  Training_loss:0.434  Test_loss:0.433  Accuracy:0.845\n",
      "epoch3 of 30  Training_loss:0.399  Test_loss:0.431  Accuracy:0.841\n",
      "epoch4 of 30  Training_loss:0.373  Test_loss:0.390  Accuracy:0.861\n",
      "epoch5 of 30  Training_loss:0.357  Test_loss:0.366  Accuracy:0.864\n",
      "epoch6 of 30  Training_loss:0.342  Test_loss:0.369  Accuracy:0.868\n",
      "epoch7 of 30  Training_loss:0.330  Test_loss:0.352  Accuracy:0.869\n",
      "epoch8 of 30  Training_loss:0.319  Test_loss:0.344  Accuracy:0.878\n",
      "epoch9 of 30  Training_loss:0.315  Test_loss:0.353  Accuracy:0.873\n",
      "epoch10 of 30  Training_loss:0.302  Test_loss:0.352  Accuracy:0.872\n",
      "epoch11 of 30  Training_loss:0.298  Test_loss:0.349  Accuracy:0.879\n",
      "epoch12 of 30  Training_loss:0.291  Test_loss:0.330  Accuracy:0.881\n",
      "epoch13 of 30  Training_loss:0.286  Test_loss:0.331  Accuracy:0.886\n",
      "epoch14 of 30  Training_loss:0.278  Test_loss:0.329  Accuracy:0.884\n",
      "epoch15 of 30  Training_loss:0.275  Test_loss:0.339  Accuracy:0.884\n",
      "epoch16 of 30  Training_loss:0.270  Test_loss:0.331  Accuracy:0.883\n",
      "epoch17 of 30  Training_loss:0.266  Test_loss:0.340  Accuracy:0.877\n",
      "epoch18 of 30  Training_loss:0.263  Test_loss:0.321  Accuracy:0.884\n",
      "epoch19 of 30  Training_loss:0.258  Test_loss:0.317  Accuracy:0.891\n",
      "epoch20 of 30  Training_loss:0.256  Test_loss:0.331  Accuracy:0.888\n",
      "epoch21 of 30  Training_loss:0.246  Test_loss:0.334  Accuracy:0.887\n",
      "epoch22 of 30  Training_loss:0.248  Test_loss:0.316  Accuracy:0.890\n",
      "epoch23 of 30  Training_loss:0.242  Test_loss:0.331  Accuracy:0.889\n",
      "epoch24 of 30  Training_loss:0.240  Test_loss:0.350  Accuracy:0.887\n",
      "epoch25 of 30  Training_loss:0.237  Test_loss:0.337  Accuracy:0.889\n",
      "epoch26 of 30  Training_loss:0.237  Test_loss:0.327  Accuracy:0.890\n",
      "epoch27 of 30  Training_loss:0.227  Test_loss:0.346  Accuracy:0.888\n",
      "epoch28 of 30  Training_loss:0.230  Test_loss:0.321  Accuracy:0.892\n",
      "epoch29 of 30  Training_loss:0.229  Test_loss:0.330  Accuracy:0.891\n",
      "epoch30 of 30  Training_loss:0.221  Test_loss:0.336  Accuracy:0.891\n"
     ]
    }
   ],
   "source": [
    "model_drop = Classify_Dropout()\n",
    "loss_function = nn.NLLLoss()\n",
    "optimizer = optim.Adam(model_drop.parameters(), lr=0.001)\n",
    "\n",
    "epochs = 30\n",
    "step = 0\n",
    "\n",
    "train_losses = []\n",
    "test_losses = []\n",
    "for i in range(epochs):\n",
    "    running_loss = 0\n",
    "    for images, labels in trainloader:\n",
    "        \n",
    "        optimizer.zero_grad()\n",
    "        \n",
    "        log_ps = model_drop(images)\n",
    "        loss = loss_function(log_ps, labels)\n",
    "        loss.backward()\n",
    "        optimizer.step()\n",
    "        \n",
    "        running_loss += loss.item()\n",
    "    \n",
    "    # 每个epochs都来计算一次测试集的损失\n",
    "    else:\n",
    "        test_loss_batch_sum = 0\n",
    "        accuracy_batch_sum = 0\n",
    "        \n",
    "        # Turn off grad to save memory and computations\n",
    "        with torch.no_grad():\n",
    "            \"\"\"因为在验证模型的时候不用再dropout,\n",
    "            所以我们把模型切换到评估模式evaluation mode\"\"\"\n",
    "            model_drop.eval()\n",
    "            \n",
    "            for images, labels in testloader:\n",
    "                log_ps_test = model_drop(images)\n",
    "                loss = loss_function(log_ps_test, labels)\n",
    "                test_loss_batch_sum += loss.item()\n",
    "            \n",
    "                ps_test = torch.exp(log_ps_test)\n",
    "                top_value, top_class = ps_test.topk(1,dim=1)\n",
    "                equals = top_class==labels.view(*top_class.shape)\n",
    "                accuracy = torch.mean(equals.type(torch.FloatTensor))\n",
    "                accuracy_batch_sum += accuracy\n",
    "                        \n",
    "        \"\"\"在评价完测试集后，要切换回去训练模式，\n",
    "        否则下一个epoch中，dropout会失效\"\"\"\n",
    "        model_drop.train()\n",
    "        \n",
    "        train_losses.append(running_loss/len(trainloader))\n",
    "        test_losses.append(test_loss_batch_sum/len(testloader))\n",
    "        \n",
    "        print(f'epoch{i+1} of {epochs}',\n",
    "             ' Training_loss:{:.3f}'.format(running_loss/len(trainloader)),\n",
    "             ' Test_loss:{:.3f}'.format(test_loss_batch_sum/len(testloader)),\n",
    "             ' Accuracy:{:.3f}'.format(accuracy_batch_sum/len(testloader)))\n",
    "        "
   ]
  },
  {
   "cell_type": "code",
   "execution_count": 75,
   "metadata": {},
   "outputs": [
    {
     "data": {
      "text/plain": [
       "<matplotlib.legend.Legend at 0x213f02de128>"
      ]
     },
     "execution_count": 75,
     "metadata": {},
     "output_type": "execute_result"
    },
    {
     "data": {
      "image/png": "[encoded data removed]",
      "text/plain": [
       "<Figure size 432x288 with 1 Axes>"
      ]
     },
     "metadata": {
      "image/png": {
       "height": 250,
       "width": 380
      },
      "needs_background": "light"
     },
     "output_type": "display_data"
    }
   ],
   "source": [
    "%matplotlib inline\n",
    "%config InlineBackend.figure_format = 'retina'\n",
    "\n",
    "import matplotlib.pyplot as plt\n",
    "\n",
    "\"\"\"再看一下添加了正则化的训练会不会降低过拟合\"\"\"\n",
    "plt.plot(train_losses, label=\"Train loss\")\n",
    "plt.plot(test_losses, label='Validation loss')\n",
    "plt.legend(frameon=False)"
   ]
  },
  {
   "cell_type": "markdown",
   "metadata": {},
   "source": [
    "### 保存模型方便下次调用"
   ]
  },
  {
   "cell_type": "code",
   "execution_count": 84,
   "metadata": {},
   "outputs": [
    {
     "name": "stdout",
     "output_type": "stream",
     "text": [
      "Clothing_classify_model:\n",
      "\n",
      " Classify_Dropout(\n",
      "  (full_connect1): Linear(in_features=784, out_features=256, bias=True)\n",
      "  (full_connect2): Linear(in_features=256, out_features=128, bias=True)\n",
      "  (full_connect3): Linear(in_features=128, out_features=64, bias=True)\n",
      "  (full_connect4): Linear(in_features=64, out_features=10, bias=True)\n",
      "  (dropout): Dropout(p=0.2)\n",
      ") \n",
      "\n",
      "The state dict keys:\n",
      "\n",
      " odict_keys(['full_connect1.weight', 'full_connect1.bias', 'full_connect2.weight', 'full_connect2.bias', 'full_connect3.weight', 'full_connect3.bias', 'full_connect4.weight', 'full_connect4.bias'])\n"
     ]
    }
   ],
   "source": [
    "\"\"\"查看模型信息并保存\"\"\"\n",
    "\n",
    "torch.save(model_drop.state_dict(),'cloth_classify.pth')\n",
    "\"\"\"\n",
    "再次取用需要用\n",
    "info = torch.load('cloth.pth')\n",
    "new_model.load_state_dict(info)\n",
    "\"\"\"\n",
    "print('Clothing_classify_model:\\n\\n',model_drop,'\\n')\n",
    "print('The state dict keys:\\n\\n',model_drop.state_dict().keys())"
   ]
  },
  {
   "cell_type": "markdown",
   "metadata": {},
   "source": [
    "### 载入保存过的模型"
   ]
  },
  {
   "cell_type": "code",
   "execution_count": 101,
   "metadata": {},
   "outputs": [
    {
     "data": {
      "text/plain": [
       "Classify_Dropout(\n",
       "  (full_connect1): Linear(in_features=784, out_features=256, bias=True)\n",
       "  (full_connect2): Linear(in_features=256, out_features=128, bias=True)\n",
       "  (full_connect3): Linear(in_features=128, out_features=64, bias=True)\n",
       "  (full_connect4): Linear(in_features=64, out_features=10, bias=True)\n",
       "  (dropout): Dropout(p=0.2)\n",
       ")"
      ]
     },
     "execution_count": 101,
     "metadata": {},
     "output_type": "execute_result"
    }
   ],
   "source": [
    "\"\"\"\n",
    "假设这里是另一个notebook，没有前面的cell，那么要载入以前的模型时候，\n",
    "模型的创建要继承以前的类，只需要把以前定义的模型类复制过来，跑一遍，\n",
    "然后就可以继承模型类来生成新的、结构与类一样的模型，这时候载入cloth_classify文件，\n",
    "载入以前训练好的weights,bias，就可以得到以前训练好的模型了\n",
    "\"\"\"\n",
    "\n",
    "from torch import nn, optim\n",
    "import torch.nn.functional as F\n",
    "class Classify_Dropout(nn.Module):\n",
    "    def __init__(self):\n",
    "        super().__init__()\n",
    "        self.full_connect1 = nn.Linear(784, 256)\n",
    "        self.full_connect2 = nn.Linear(256, 128)\n",
    "        self.full_connect3 = nn.Linear(128, 64)\n",
    "        self.full_connect4 = nn.Linear(64,10)\n",
    "        self.dropout = nn.Dropout(p=0.2)\n",
    "        \n",
    "    def forward(self,x):\n",
    "        x = x.view(x.shape[0],-1)\n",
    "        x = self.dropout(F.relu(self.full_connect1(x)))\n",
    "        x = self.dropout(F.relu(self.full_connect2(x)))\n",
    "        x = self.dropout(F.relu(self.full_connect3(x)))\n",
    "        x = F.log_softmax(self.full_connect4(x), dim=1)\n",
    "        return x\n",
    "\n",
    "\n",
    "new_model = Classify_Dropout()\n",
    "info = torch.load('cloth_classify.pth')\n",
    "new_model.load_state_dict(info)\n",
    "\n",
    "new_model"
   ]
  }
 ],
 "metadata": {
  "kernelspec": {
   "display_name": "Python 3",
   "language": "python",
   "name": "python3"
  },
  "language_info": {
   "codemirror_mode": {
    "name": "ipython",
    "version": 3
   },
   "file_extension": ".py",
   "mimetype": "text/x-python",
   "name": "python",
   "nbconvert_exporter": "python",
   "pygments_lexer": "ipython3",
   "version": "3.7.1"
  }
 },
 "nbformat": 4,
 "nbformat_minor": 2
}
