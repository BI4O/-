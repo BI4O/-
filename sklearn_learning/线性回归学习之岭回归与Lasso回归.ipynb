{
 "cells": [
  {
   "cell_type": "markdown",
   "metadata": {},
   "source": [
    "线性回归学习"
   ]
  },
  {
   "cell_type": "code",
   "execution_count": 28,
   "metadata": {},
   "outputs": [
    {
     "name": "stdout",
     "output_type": "stream",
     "text": [
      "y = 0.00 + 0.50 x1 + 0.50 x2\n"
     ]
    }
   ],
   "source": [
    "# linearRegression 会调用方法fit()来拟合数组X,y\n",
    "# 将线性模型的系数:\"w数组\"存储在变量coef_中：\n",
    "from sklearn import linear_model\n",
    "\n",
    "# 新建一个模型实例\n",
    "my_model = linear_model.LinearRegression()\n",
    "\n",
    "# 准备训练数据(对于少量普通的实验数据而言)\n",
    "# 注意x是列表，y也是列表，最后fit()要接收的也是[X,y]形式的一个列表\n",
    "data_X = [[0,0],[1,1],[2,2]]\n",
    "data_y = [0,1,2]\n",
    "data = [data_X,data_y]\n",
    "\n",
    "# 用线性回归类的fit([[x1,x2,,,],y])方法让模型通过训练数据（有标签）拟合一组数据\n",
    "my_model.fit(data_X,data_y)\n",
    "\n",
    "# 打印所得的模型\n",
    "print('y = %.2f + %.2f x1 + %.2f x2'% (my_model.intercept_,my_model.coef_[0],my_model.coef_[1]))\n"
   ]
  },
  {
   "cell_type": "markdown",
   "metadata": {},
   "source": [
    "\n",
    "\n",
    "\n",
    "\n",
    "\n",
    "岭回归和lasso回归：带有alpha（正则化系数）的线性回归，前者正则化项=alpha*L2范数，后者正则化项=alpha*L1范数"
   ]
  },
  {
   "cell_type": "code",
   "execution_count": 77,
   "metadata": {},
   "outputs": [
    {
     "name": "stdout",
     "output_type": "stream",
     "text": [
      "参数w为：[0.34545455 0.34545455]  w0为：0.1363636363636364 \n",
      "y = 0.35 x1 + 0.35 x2 + 0.14\n",
      "岭回归模型对x = [0, 1]的预测值为： [0.48181818]\n",
      "++++++++++++++++++++++++++++++++++++++++++++++++++\n",
      "参数w为：[0.34545455 0.34545455]  w0为：0.1363636363636364 \n",
      "y = 0.35 x1 + 0.35 x2 + 0.14\n"
     ]
    }
   ],
   "source": [
    "from sklearn import linear_model\n",
    "\n",
    "# 创建岭回归模型（带alpha惩罚系数的线性回归，也叫正则化线性回归）\n",
    "my_model2 = linear_model.Ridge(alpha = 0.5)\n",
    "\n",
    "# 准备数据\n",
    "data2_X = [[0, 0],[0, 0],[1, 1]]\n",
    "data2_y = [0, 0.1, 1]\n",
    "\n",
    "# fit()来拟合数据\n",
    "my_model2.fit(data2_X,data2_y)\n",
    "\n",
    "# 检查得到的数据\n",
    "print('参数w为：%s  w0为：%s ' % (my_model2.coef_,my_model2.intercept_))\n",
    "print('y = %.2f x1 + %.2f x2 + %.2f'%(my_model2.coef_[0],my_model2.coef_[1],my_model2.intercept_))\n",
    "\n",
    "# 尝试利用模型来预测\n",
    "# 使用my_model2.predict()方法来预测某个值，注意接收的是列表[x],和data2_X的输入格式一样\n",
    "print('岭回归模型对x = [0, 1]的预测值为：',my_model2.predict([[0,1]]))\n",
    "\n",
    "print('+'*50)\n",
    "#重新设置参数alpha=0.6\n",
    "my_model2.set_params(alpha = 0.6)\n",
    "# 重新训练模型\n",
    "reg.fit (data2_X,data2_y)\n",
    "# 检查得到的数据\n",
    "print('参数w为：%s  w0为：%s ' % (my_model2.coef_,my_model2.intercept_))\n",
    "print('y = %.2f x1 + %.2f x2 + %.2f'%(my_model2.coef_[0],my_model2.coef_[1],my_model2.intercept_))"
   ]
  },
  {
   "cell_type": "markdown",
   "metadata": {},
   "source": [
    "岭回归之交叉验证"
   ]
  },
  {
   "cell_type": "code",
   "execution_count": 73,
   "metadata": {},
   "outputs": [
    {
     "name": "stdout",
     "output_type": "stream",
     "text": [
      "最佳的正则化参数alpha是：0.10\n"
     ]
    }
   ],
   "source": [
    "# 同样使用上面的模型，试试多个不同alpha的结果，选出最好的\n",
    "\n",
    "from sklearn import linear_model\n",
    "\n",
    "# 创建岭回归模型（带alpha惩罚系数的线性回归，也叫正则化线性回归）\n",
    "my_model3 = linear_model.RidgeCV(alphas = [0.1, 0.2, 0.5, 0.8, 1, 10, 100,])\n",
    "\n",
    "# 准备数据\n",
    "data3_X = [[0, 0],[0, 0],[1, 1]]\n",
    "data3_y = [0, 0.1, 1]\n",
    "\n",
    "# fit()来拟合数据\n",
    "my_model3.fit(data2_X,data2_y)\n",
    "\n",
    "# 通过内部的交叉验证，选出拟合效果最好的alpha值\n",
    "print('最佳的正则化参数alpha是：%.2f' % my_model3.alpha_)"
   ]
  },
  {
   "cell_type": "markdown",
   "metadata": {},
   "source": [
    "Lasso回归，因为利用L1范数，更容易获得w向量的稀疏解"
   ]
  },
  {
   "cell_type": "code",
   "execution_count": 80,
   "metadata": {},
   "outputs": [
    {
     "name": "stdout",
     "output_type": "stream",
     "text": [
      "参数w为：[0. 0.]  w0为：0.3666666666666667 \n",
      "y = 0.000000 x1 + 0.000000 x2 + 0.366667\n",
      "Lasso回归模型对x = [0, 1]的预测值为： [0.36666667]\n"
     ]
    }
   ],
   "source": [
    "from sklearn import linear_model\n",
    "\n",
    "# 创建LASSO回归模型（带alpha惩罚系数的线性回归，也叫正则化线性回归）\n",
    "my_model4 = linear_model.Lasso(alpha = 0.5)\n",
    "\n",
    "# 准备数据\n",
    "data4_X = [[0, 0],[0, 0.5],[1, 1]]\n",
    "data4_y = [0, 0.1, 1]\n",
    "\n",
    "# fit()来拟合数据\n",
    "my_model4.fit(data4_X,data4_y)\n",
    "\n",
    "# 检查得到的数据\n",
    "print('参数w为：%s  w0为：%s ' % (my_model4.coef_,my_model4.intercept_))\n",
    "print('y = %f x1 + %f x2 + %f'%(my_model4.coef_[0],my_model4.coef_[1],my_model4.intercept_))\n",
    "\n",
    "# 尝试利用模型来预测\n",
    "# 使用my_model2.predict()方法来预测某个值，注意接收的是列表[x],和data2_X的输入格式一样\n",
    "print('Lasso回归模型对x = [0, 1]的预测值为：',my_model4.predict([[0,1]]))"
   ]
  }
 ],
 "metadata": {
  "kernelspec": {
   "display_name": "Python 3",
   "language": "python",
   "name": "python3"
  },
  "language_info": {
   "codemirror_mode": {
    "name": "ipython",
    "version": 3
   },
   "file_extension": ".py",
   "mimetype": "text/x-python",
   "name": "python",
   "nbconvert_exporter": "python",
   "pygments_lexer": "ipython3",
   "version": "3.7.1"
  }
 },
 "nbformat": 4,
 "nbformat_minor": 2
}
