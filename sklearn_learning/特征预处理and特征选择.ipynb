{
 "cells": [
  {
   "cell_type": "markdown",
   "metadata": {},
   "source": [
    "# Part 1 数据预处理/特征值X的处理\n",
    "#### 数据预处理可以使模型公平对待每个特征，不会因为一某个特征的值比较大而对它有所偏好"
   ]
  },
  {
   "cell_type": "code",
   "execution_count": 1,
   "metadata": {},
   "outputs": [
    {
     "name": "stdout",
     "output_type": "stream",
     "text": [
      "[0 0 0 0 0 0 0 0 0 0 0 0 0 0 0 0 0 0 0 0 0 0 0 0 0 0 0 0 0 0 0 0 0 0 0 0 0\n",
      " 0 0 0 0 0 0 0 0 0 0 0 0 0 1 1 1 1 1 1 1 1 1 1 1 1 1 1 1 1 1 1 1 1 1 1 1 1\n",
      " 1 1 1 1 1 1 1 1 1 1 1 1 1 1 1 1 1 1 1 1 1 1 1 1 1 1 2 2 2 2 2 2 2 2 2 2 2\n",
      " 2 2 2 2 2 2 2 2 2 2 2 2 2 2 2 2 2 2 2 2 2 2 2 2 2 2 2 2 2 2 2 2 2 2 2 2 2\n",
      " 2 2]\n"
     ]
    },
    {
     "data": {
      "text/plain": [
       "array([[5.1, 3.5, 1.4, 0.2],\n",
       "       [4.9, 3. , 1.4, 0.2],\n",
       "       [4.7, 3.2, 1.3, 0.2]])"
      ]
     },
     "execution_count": 1,
     "metadata": {},
     "output_type": "execute_result"
    }
   ],
   "source": [
    "from sklearn.datasets import load_iris\n",
    "iris = load_iris()\n",
    "print(iris.target)\n",
    "iris.data[:3]  # 150x4  array"
   ]
  },
  {
   "cell_type": "code",
   "execution_count": 2,
   "metadata": {},
   "outputs": [
    {
     "name": "stdout",
     "output_type": "stream",
     "text": [
      "[0.         0.         0.00789266 0.99210734]\n"
     ]
    },
    {
     "data": {
      "text/plain": [
       "0.9523809523809523"
      ]
     },
     "execution_count": 2,
     "metadata": {},
     "output_type": "execute_result"
    }
   ],
   "source": [
    "\"\"\"先来看看不做数据预处理的情况下随机森林算法的得分\"\"\"\n",
    "from sklearn.model_selection import train_test_split\n",
    "from sklearn import tree\n",
    "data_train,data_test,target_train,target_test=train_test_split(iris.data,iris.target,test_size=0.7,random_state=13)\n",
    "# 实例化随机森林模型\n",
    "DTR_init=tree.DecisionTreeClassifier(random_state=13,max_depth=4,min_samples_leaf=5)\n",
    "# 检验分数\n",
    "DTR_init.fit(data_train,target_train)\n",
    "print(DTR_init.feature_importances_)\n",
    "DTR_init.score(data_test,target_test)  #  分数较低"
   ]
  },
  {
   "cell_type": "code",
   "execution_count": 3,
   "metadata": {},
   "outputs": [
    {
     "name": "stdout",
     "output_type": "stream",
     "text": [
      "参数w为：[-0.00556353 -0.11024172  0.07200286  0.83659679]  w0为：0.07032668388715158 \n"
     ]
    },
    {
     "data": {
      "text/plain": [
       "0.9182985243249244"
      ]
     },
     "execution_count": 3,
     "metadata": {},
     "output_type": "execute_result"
    }
   ],
   "source": [
    "from sklearn import linear_model\n",
    "# 实例化线性回归模型\n",
    "# Linear_init=linear_model.RidgeClassifier(alpha=0.000001)\n",
    "Linear_init=linear_model.LinearRegression()\n",
    "# 检验分数\n",
    "Linear_init.fit(data_train,target_train)\n",
    "# print(Linear_init.feature_importances_)\n",
    "print('参数w为：%s  w0为：%s ' % (Linear_init.coef_,Linear_init.intercept_))\n",
    "Linear_init.score(data_test,target_test)\n"
   ]
  },
  {
   "cell_type": "markdown",
   "metadata": {},
   "source": [
    "## 特征(数据)预处理方法1——标准化StandardScaler"
   ]
  },
  {
   "cell_type": "code",
   "execution_count": 4,
   "metadata": {},
   "outputs": [
    {
     "data": {
      "text/plain": [
       "array([[-0.90068117,  1.01900435, -1.34022653, -1.3154443 ],\n",
       "       [-1.14301691, -0.13197948, -1.34022653, -1.3154443 ],\n",
       "       [-1.38535265,  0.32841405, -1.39706395, -1.3154443 ],\n",
       "       [-1.50652052,  0.09821729, -1.2833891 , -1.3154443 ],\n",
       "       [-1.02184904,  1.24920112, -1.34022653, -1.3154443 ]])"
      ]
     },
     "execution_count": 4,
     "metadata": {},
     "output_type": "execute_result"
    }
   ],
   "source": [
    "from sklearn.preprocessing import StandardScaler\n",
    "\"\"\"标准化，返回值为标准化后的数据\"\"\"\n",
    "iris.data_StandardScaler = StandardScaler().fit_transform(iris.data)\n",
    "# 查看前五行数据\n",
    "iris.data_StandardScaler[:5]"
   ]
  },
  {
   "cell_type": "markdown",
   "metadata": {},
   "source": [
    "## 特征(数据)预处理方法2——特征缩放MinMaxScaler"
   ]
  },
  {
   "cell_type": "code",
   "execution_count": 5,
   "metadata": {},
   "outputs": [
    {
     "data": {
      "text/plain": [
       "array([[0.22222222, 0.625     , 0.06779661, 0.04166667],\n",
       "       [0.16666667, 0.41666667, 0.06779661, 0.04166667],\n",
       "       [0.11111111, 0.5       , 0.05084746, 0.04166667],\n",
       "       [0.08333333, 0.45833333, 0.08474576, 0.04166667],\n",
       "       [0.19444444, 0.66666667, 0.06779661, 0.04166667]])"
      ]
     },
     "execution_count": 5,
     "metadata": {},
     "output_type": "execute_result"
    }
   ],
   "source": [
    "from sklearn.preprocessing import MinMaxScaler\n",
    "\"\"\"缩放，返回值为缩放后的数据\"\"\"\n",
    "iris.data_MinMaxScaler = MinMaxScaler().fit_transform(iris.data)\n",
    "# 查看前五行数据\n",
    "iris.data_MinMaxScaler[:5]"
   ]
  },
  {
   "cell_type": "markdown",
   "metadata": {},
   "source": [
    "## 特征(数据)预处理方法3——归一化Normalizer"
   ]
  },
  {
   "cell_type": "code",
   "execution_count": 6,
   "metadata": {},
   "outputs": [
    {
     "data": {
      "text/plain": [
       "array([[-0.90068117,  1.01900435, -1.34022653, -1.3154443 ],\n",
       "       [-1.14301691, -0.13197948, -1.34022653, -1.3154443 ],\n",
       "       [-1.38535265,  0.32841405, -1.39706395, -1.3154443 ],\n",
       "       [-1.50652052,  0.09821729, -1.2833891 , -1.3154443 ],\n",
       "       [-1.02184904,  1.24920112, -1.34022653, -1.3154443 ]])"
      ]
     },
     "execution_count": 6,
     "metadata": {},
     "output_type": "execute_result"
    }
   ],
   "source": [
    "from sklearn.preprocessing import Normalizer\n",
    "\"\"\"归一化，返回值为归一化后的数据\"\"\"\n",
    "iris.data_Normalizer = StandardScaler().fit_transform(iris.data)\n",
    "# 查看前五行数据\n",
    "iris.data_Normalizer[:5]"
   ]
  },
  {
   "cell_type": "markdown",
   "metadata": {},
   "source": [
    "## 特征(数据)预处理方法4——多项式数据转换PolynomialFeatures"
   ]
  },
  {
   "cell_type": "code",
   "execution_count": 7,
   "metadata": {},
   "outputs": [
    {
     "data": {
      "text/plain": [
       "(150, 15)"
      ]
     },
     "execution_count": 7,
     "metadata": {},
     "output_type": "execute_result"
    }
   ],
   "source": [
    "from sklearn.preprocessing import PolynomialFeatures\n",
    "\"\"\"多项式数据转换，返回的次数0到degree参数阶的特征值\"\"\"\n",
    "# degree=2 返回阶数为0，1，2的项共1+4+[（4x3/2）+ 4]=15个\n",
    "iris.data_Poly = PolynomialFeatures(degree=2).fit_transform(iris.data)\n",
    "iris.data_Poly\n",
    "\"\"\"\n",
    "array([[ 1.  ,  5.1 ,  3.5 , ...,  1.96,  0.28,  0.04],\n",
    "       [ 1.  ,  4.9 ,  3.  , ...,  1.96,  0.28,  0.04],\n",
    "       [ 1.  ,  4.7 ,  3.2 , ...,  1.69,  0.26,  0.04],\n",
    "       ...,\n",
    "       [ 1.  ,  6.5 ,  3.  , ..., 27.04, 10.4 ,  4.  ],\n",
    "       [ 1.  ,  6.2 ,  3.4 , ..., 29.16, 12.42,  5.29],\n",
    "       [ 1.  ,  5.9 ,  3.  , ..., 26.01,  9.18,  3.24]])\n",
    "\"\"\"\n",
    "iris.data_Poly.shape"
   ]
  },
  {
   "cell_type": "code",
   "execution_count": 8,
   "metadata": {},
   "outputs": [
    {
     "name": "stderr",
     "output_type": "stream",
     "text": [
      "C:\\Anaconda3\\lib\\site-packages\\sklearn\\svm\\base.py:922: ConvergenceWarning: Liblinear failed to converge, increase the number of iterations.\n",
      "  \"the number of iterations.\", ConvergenceWarning)\n"
     ]
    },
    {
     "data": {
      "text/plain": [
       "array([2])"
      ]
     },
     "execution_count": 8,
     "metadata": {},
     "output_type": "execute_result"
    }
   ],
   "source": [
    "\"\"\"看看多项式转换对分类的提升作用\"\"\"\n",
    "from sklearn.pipeline import Pipeline\n",
    "from sklearn.preprocessing import PolynomialFeatures\n",
    "from sklearn.svm import LinearSVC\n",
    "\n",
    "polynomial_svm_clf = Pipeline((\n",
    "        (\"poly_features\", PolynomialFeatures(degree=2)),\n",
    "        (\"scaler\", StandardScaler()),\n",
    "        (\"svm_clf\", LinearSVC(C=3, loss=\"hinge\"))\n",
    "    ))\n",
    "\n",
    "polynomial_svm_clf.fit(data_train, target_train)\n",
    "polynomial_svm_clf.score(data_test, target_test)  # degree2 0.962  degree1 0.895  degree3 0.943\n",
    "polynomial_svm_clf.predict(data_train[[3]])"
   ]
  },
  {
   "cell_type": "markdown",
   "metadata": {},
   "source": [
    "# Part2 特征选择\n",
    "### 特征选择是为了去除对模型贡献少或没有贡献的特征列，一般是在特征处理后进行"
   ]
  },
  {
   "cell_type": "markdown",
   "metadata": {},
   "source": [
    "## 特征选择方法1——过滤法（卡方验证chi2）"
   ]
  },
  {
   "cell_type": "code",
   "execution_count": 9,
   "metadata": {},
   "outputs": [
    {
     "data": {
      "text/plain": [
       "array([[1.4, 0.2],\n",
       "       [1.4, 0.2],\n",
       "       [1.3, 0.2],\n",
       "       [1.5, 0.2],\n",
       "       [1.4, 0.2]])"
      ]
     },
     "execution_count": 9,
     "metadata": {},
     "output_type": "execute_result"
    }
   ],
   "source": [
    "\"\"\"SelectKBest可以指定要留下多少个特征\"\"\"\n",
    "from sklearn.feature_selection import chi2,SelectKBest\n",
    "# iris.data.shape (150, 4)\n",
    "iris.data_chi2_filted = SelectKBest(chi2,k=2).fit_transform(iris.data, iris.target)\n",
    "# iris.data_chi2_filted.shape (150, 2)\n",
    "iris.data_chi2_filted[:5] # 看到是留下了3和4列"
   ]
  },
  {
   "cell_type": "code",
   "execution_count": 10,
   "metadata": {},
   "outputs": [
    {
     "data": {
      "text/html": [
       "<div>\n",
       "<style scoped>\n",
       "    .dataframe tbody tr th:only-of-type {\n",
       "        vertical-align: middle;\n",
       "    }\n",
       "\n",
       "    .dataframe tbody tr th {\n",
       "        vertical-align: top;\n",
       "    }\n",
       "\n",
       "    .dataframe thead th {\n",
       "        text-align: right;\n",
       "    }\n",
       "</style>\n",
       "<table border=\"1\" class=\"dataframe\">\n",
       "  <thead>\n",
       "    <tr style=\"text-align: right;\">\n",
       "      <th></th>\n",
       "      <th>f1</th>\n",
       "      <th>f2</th>\n",
       "      <th>f3</th>\n",
       "      <th>f4</th>\n",
       "      <th>result</th>\n",
       "    </tr>\n",
       "  </thead>\n",
       "  <tbody>\n",
       "    <tr>\n",
       "      <th>f1</th>\n",
       "      <td>1.000000</td>\n",
       "      <td>-0.117570</td>\n",
       "      <td>0.871754</td>\n",
       "      <td>0.817941</td>\n",
       "      <td>0.782561</td>\n",
       "    </tr>\n",
       "    <tr>\n",
       "      <th>f2</th>\n",
       "      <td>-0.117570</td>\n",
       "      <td>1.000000</td>\n",
       "      <td>-0.428440</td>\n",
       "      <td>-0.366126</td>\n",
       "      <td>-0.426658</td>\n",
       "    </tr>\n",
       "    <tr>\n",
       "      <th>f3</th>\n",
       "      <td>0.871754</td>\n",
       "      <td>-0.428440</td>\n",
       "      <td>1.000000</td>\n",
       "      <td>0.962865</td>\n",
       "      <td>0.949035</td>\n",
       "    </tr>\n",
       "    <tr>\n",
       "      <th>f4</th>\n",
       "      <td>0.817941</td>\n",
       "      <td>-0.366126</td>\n",
       "      <td>0.962865</td>\n",
       "      <td>1.000000</td>\n",
       "      <td>0.956547</td>\n",
       "    </tr>\n",
       "    <tr>\n",
       "      <th>result</th>\n",
       "      <td>0.782561</td>\n",
       "      <td>-0.426658</td>\n",
       "      <td>0.949035</td>\n",
       "      <td>0.956547</td>\n",
       "      <td>1.000000</td>\n",
       "    </tr>\n",
       "  </tbody>\n",
       "</table>\n",
       "</div>"
      ],
      "text/plain": [
       "              f1        f2        f3        f4    result\n",
       "f1      1.000000 -0.117570  0.871754  0.817941  0.782561\n",
       "f2     -0.117570  1.000000 -0.428440 -0.366126 -0.426658\n",
       "f3      0.871754 -0.428440  1.000000  0.962865  0.949035\n",
       "f4      0.817941 -0.366126  0.962865  1.000000  0.956547\n",
       "result  0.782561 -0.426658  0.949035  0.956547  1.000000"
      ]
     },
     "execution_count": 10,
     "metadata": {},
     "output_type": "execute_result"
    }
   ],
   "source": [
    "\"\"\"在pandas里面，DataFrame有corr()方法可以计算协方差，也是体现特征与结果的相关性的一种方法，下面做验证为何保留34列\"\"\"\n",
    "import numpy as np\n",
    "import pandas as pd\n",
    "import seaborn as sns\n",
    "import matplotlib.pyplot as plt\n",
    "%matplotlib inline\n",
    "\n",
    "# 相关性协方差表,corr()函数,返回结果接近0说明无相关性,大于0说明是正相关,小于0是负相关.\n",
    "df1 = pd.DataFrame(iris.data,columns=['f1','f2','f3','f4'])\n",
    "df2 = pd.DataFrame(iris.target.T,columns=['result'])\n",
    "df = pd.concat([df1,df2],axis=1)\n",
    "df.corr()\n"
   ]
  },
  {
   "cell_type": "code",
   "execution_count": 14,
   "metadata": {},
   "outputs": [
    {
     "data": {
      "image/png": "[encoded data removed]",
      "text/plain": [
       "<Figure size 1080x648 with 2 Axes>"
      ]
     },
     "metadata": {
      "needs_background": "light"
     },
     "output_type": "display_data"
    }
   ],
   "source": [
    "\"\"\"通过热力图可以看出f3,f4的对结果的协方差逼近了1，属于很强的正相关\"\"\"\n",
    "\n",
    "# 画出相关性热力图\n",
    "a = plt.subplots(figsize=(15,9))#调整画布大小\n",
    "a = sns.heatmap(df.corr(), vmin=.5, vmax=1 , annot=True , square=True)#画热力图"
   ]
  },
  {
   "cell_type": "markdown",
   "metadata": {},
   "source": [
    "## 特征选择方法——嵌入法（L1正则化选择特征）"
   ]
  },
  {
   "cell_type": "code",
   "execution_count": 12,
   "metadata": {},
   "outputs": [
    {
     "name": "stderr",
     "output_type": "stream",
     "text": [
      "C:\\Anaconda3\\lib\\site-packages\\sklearn\\linear_model\\logistic.py:433: FutureWarning: Default solver will be changed to 'lbfgs' in 0.22. Specify a solver to silence this warning.\n",
      "  FutureWarning)\n",
      "C:\\Anaconda3\\lib\\site-packages\\sklearn\\linear_model\\logistic.py:460: FutureWarning: Default multi_class will be changed to 'auto' in 0.22. Specify the multi_class option to silence this warning.\n",
      "  \"this warning.\", FutureWarning)\n"
     ]
    },
    {
     "data": {
      "text/plain": [
       "array([[5.1, 3.5, 1.4],\n",
       "       [4.9, 3. , 1.4],\n",
       "       [4.7, 3.2, 1.3],\n",
       "       [4.6, 3.1, 1.5],\n",
       "       [5. , 3.6, 1.4]])"
      ]
     },
     "execution_count": 12,
     "metadata": {},
     "output_type": "execute_result"
    }
   ],
   "source": [
    "from sklearn.feature_selection import SelectFromModel\n",
    "from sklearn.linear_model import LogisticRegression\n",
    "\n",
    "#带L1惩罚项的逻辑回归作为基模型的特征选择\n",
    "data_L1_selected = SelectFromModel(LogisticRegression(penalty=\"l1\", C=0.1)).fit_transform(iris.data, iris.target)\n",
    "data_L1_selected[:5]  # 去掉了第四个特征,这是因为它觉得34特征相关性太强，要一个就好，不是说特征4不重要"
   ]
  },
  {
   "cell_type": "markdown",
   "metadata": {},
   "source": [
    "## 特征选择方法——嵌入法（树模型选择特征）"
   ]
  },
  {
   "cell_type": "code",
   "execution_count": 13,
   "metadata": {},
   "outputs": [
    {
     "name": "stderr",
     "output_type": "stream",
     "text": [
      "C:\\Anaconda3\\lib\\site-packages\\sklearn\\ensemble\\forest.py:246: FutureWarning: The default value of n_estimators will change from 10 in version 0.20 to 100 in 0.22.\n",
      "  \"10 in version 0.20 to 100 in 0.22.\", FutureWarning)\n"
     ]
    },
    {
     "data": {
      "text/plain": [
       "array([[1.4, 0.2],\n",
       "       [1.4, 0.2],\n",
       "       [1.3, 0.2],\n",
       "       [1.5, 0.2],\n",
       "       [1.4, 0.2]])"
      ]
     },
     "execution_count": 13,
     "metadata": {},
     "output_type": "execute_result"
    }
   ],
   "source": [
    "from sklearn.feature_selection import SelectFromModel\n",
    "from sklearn.ensemble import ExtraTreesClassifier \n",
    "\n",
    "#树模型为基模型的特征选择,根据信息增益比来选择特征\n",
    "data_tree_selected = SelectFromModel(ExtraTreesClassifier(max_depth=2)).fit_transform(iris.data, iris.target)\n",
    "data_tree_selected[:5]  # 去除了f2，f2的信息增益比最低"
   ]
  }
 ],
 "metadata": {
  "kernelspec": {
   "display_name": "Python 3",
   "language": "python",
   "name": "python3"
  },
  "language_info": {
   "codemirror_mode": {
    "name": "ipython",
    "version": 3
   },
   "file_extension": ".py",
   "mimetype": "text/x-python",
   "name": "python",
   "nbconvert_exporter": "python",
   "pygments_lexer": "ipython3",
   "version": "3.7.1"
  }
 },
 "nbformat": 4,
 "nbformat_minor": 2
}
